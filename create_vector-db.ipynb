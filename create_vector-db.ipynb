{
 "cells": [
  {
   "cell_type": "code",
   "execution_count": 1,
   "id": "11a92eb2-c849-48ec-8ea8-ffef46e0bfcd",
   "metadata": {},
   "outputs": [],
   "source": [
    "#!pip install pypdf "
   ]
  },
  {
   "cell_type": "code",
   "execution_count": 2,
   "id": "ccb76b37-7d57-4740-8dad-9e4f7e2fa914",
   "metadata": {},
   "outputs": [],
   "source": [
    "#!pip install chromadb"
   ]
  },
  {
   "cell_type": "code",
   "execution_count": 9,
   "id": "73789704-82cf-40f8-8b03-213c3398a1c2",
   "metadata": {},
   "outputs": [],
   "source": [
    "import numpy as np\n",
    "import pandas as pd\n",
    "import glob\n",
    "import time\n",
    "\n",
    "from langchain_community.document_loaders import FileSystemBlobLoader\n",
    "from langchain_community.document_loaders.generic import GenericLoader\n",
    "from langchain_community.document_loaders.parsers import PyPDFParser\n",
    "\n",
    "from langchain.text_splitter import RecursiveCharacterTextSplitter\n",
    "\n",
    "import tiktoken"
   ]
  },
  {
   "cell_type": "code",
   "execution_count": 4,
   "id": "62f1cd8f-12b4-4c5d-a534-2ce538f7befa",
   "metadata": {},
   "outputs": [],
   "source": [
    "loader = GenericLoader(\n",
    "    blob_loader=FileSystemBlobLoader(\n",
    "        path=\"./articles/\",\n",
    "        glob=\"*.pdf\",\n",
    "    ),\n",
    "    blob_parser=PyPDFParser(),\n",
    ")\n",
    "\n",
    "docs = loader.load()\n",
    "\n",
    "r_splitter = RecursiveCharacterTextSplitter(\n",
    "    chunk_size=1250,\n",
    "    chunk_overlap=50, \n",
    "    separators=[\"\\n\\n\", \"\\n\", \" \", \"\"]\n",
    ")\n",
    "\n",
    "docs = r_splitter.split_documents(docs)"
   ]
  },
  {
   "cell_type": "code",
   "execution_count": 5,
   "id": "97cb7f97-8869-4b01-97f6-bf22aa62fe10",
   "metadata": {},
   "outputs": [],
   "source": [
    "from langchain.vectorstores import Chroma"
   ]
  },
  {
   "cell_type": "code",
   "execution_count": 6,
   "id": "854dded7-a52c-48f9-9343-d1165c268b1c",
   "metadata": {},
   "outputs": [
    {
     "name": "stderr",
     "output_type": "stream",
     "text": [
      "C:\\Users\\igofo\\AppData\\Local\\Temp\\ipykernel_528\\3181338817.py:2: LangChainDeprecationWarning: The class `OpenAIEmbeddings` was deprecated in LangChain 0.0.9 and will be removed in 1.0. An updated version of the class exists in the :class:`~langchain-openai package and should be used instead. To use it run `pip install -U :class:`~langchain-openai` and import as `from :class:`~langchain_openai import OpenAIEmbeddings``.\n",
      "  embedding = OpenAIEmbeddings(model=\"text-embedding-3-large\")\n"
     ]
    }
   ],
   "source": [
    "from langchain.embeddings.openai import OpenAIEmbeddings\n",
    "embedding = OpenAIEmbeddings(model=\"text-embedding-3-large\")"
   ]
  },
  {
   "cell_type": "code",
   "execution_count": 10,
   "id": "34b04f10-e496-42e9-9e56-fc52643c648f",
   "metadata": {
    "scrolled": true
   },
   "outputs": [
    {
     "name": "stdout",
     "output_type": "stream",
     "text": [
      "0 100\n",
      "1 200\n",
      "2 300\n",
      "3 400\n",
      "4 500\n",
      "5 600\n",
      "6 700\n",
      "7 800\n",
      "8 900\n",
      "9 1000\n",
      "10 1100\n",
      "11 1200\n",
      "12 1300\n",
      "13 1400\n",
      "14 1500\n",
      "15 1600\n",
      "16 1700\n",
      "17 1800\n",
      "18 1900\n",
      "19 2000\n",
      "20 2100\n",
      "21 2200\n",
      "22 2300\n",
      "23 2400\n",
      "24 2500\n",
      "25 2600\n",
      "26 2700\n",
      "27 2800\n",
      "28 2900\n",
      "29 3000\n",
      "30 3100\n",
      "31 3200\n",
      "32 3300\n",
      "33 3400\n",
      "34 3500\n",
      "35 3600\n",
      "36 3700\n",
      "37 3800\n",
      "38 3900\n",
      "39 4000\n",
      "40 4100\n",
      "41 4200\n",
      "42 4300\n",
      "43 4400\n",
      "44 4500\n",
      "45 4600\n",
      "46 4700\n",
      "47 4800\n",
      "48 4900\n",
      "49 5000\n",
      "50 5100\n",
      "51 5200\n",
      "52 5300\n",
      "53 5400\n",
      "54 5500\n",
      "55 5600\n",
      "56 5700\n",
      "57 5800\n",
      "58 5900\n",
      "59 6000\n",
      "60 6100\n",
      "61 6200\n",
      "62 6300\n",
      "63 6400\n",
      "64 6500\n",
      "65 6600\n",
      "66 6700\n",
      "67 6800\n",
      "68 6900\n",
      "69 7000\n",
      "70 7100\n",
      "71 7200\n",
      "72 7300\n",
      "73 7400\n",
      "74 7500\n",
      "75 7600\n",
      "76 7700\n",
      "77 7800\n",
      "78 7900\n",
      "79 8000\n",
      "80 8100\n",
      "81 8200\n",
      "82 8300\n",
      "83 8400\n",
      "84 8500\n",
      "85 8600\n",
      "86 8700\n",
      "87 8800\n",
      "88 8900\n",
      "89 9000\n",
      "90 9100\n",
      "91 9200\n",
      "92 9300\n",
      "93 9400\n",
      "94 9500\n",
      "95 9596\n"
     ]
    }
   ],
   "source": [
    "persist_directory = 'cusns'\n",
    "for n, i in enumerate(np.arange(0, len(docs), 100)):\n",
    "\n",
    "    if n == 0:\n",
    "        vectordb = Chroma.from_documents(\n",
    "            documents=docs[n*100:(n+1)*100],\n",
    "            embedding=embedding,\n",
    "            persist_directory=persist_directory\n",
    "        )\n",
    "        print(n, len(vectordb.get()['documents']))\n",
    "    else:\n",
    "        vectordb.add_documents(documents = docs[n*100:(n+1)*100],\n",
    "                               embedding=embedding,\n",
    "                               persist_directory=persist_directory)\n",
    "        time.sleep(60)\n",
    "        print(n, len(vectordb.get()['documents']))"
   ]
  }
 ],
 "metadata": {
  "kernelspec": {
   "display_name": "Python 3 (ipykernel)",
   "language": "python",
   "name": "python3"
  },
  "language_info": {
   "codemirror_mode": {
    "name": "ipython",
    "version": 3
   },
   "file_extension": ".py",
   "mimetype": "text/x-python",
   "name": "python",
   "nbconvert_exporter": "python",
   "pygments_lexer": "ipython3",
   "version": "3.12.9"
  }
 },
 "nbformat": 4,
 "nbformat_minor": 5
}
